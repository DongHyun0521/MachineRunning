{
 "cells": [
  {
   "cell_type": "markdown",
   "id": "1ed1dec8",
   "metadata": {},
   "source": [
    "# 주제: 소나탐지\n",
    "\n",
    "## 레포지토리: UC Irvine Machine Running Repository\n",
    "\n",
    "## 데이터: Sonar, Mines vs. Rocks 데이터셋\n",
    "### [실제 자료 링크](https://archive.ics.uci.edu/dataset/151/connectionist+bench+sonar+mines+vs+rocks)\n",
    "\n",
    "## 알고리즘: 랜덤 포레스트\n",
    "\n",
    "## 정확도: 95.24%"
   ]
  },
  {
   "cell_type": "markdown",
   "id": "9af26d8d",
   "metadata": {},
   "source": [
    "### - 필요한 라이브러리 설치 및 임포트"
   ]
  },
  {
   "cell_type": "code",
   "execution_count": 159,
   "id": "1311ab42",
   "metadata": {},
   "outputs": [
    {
     "name": "stdout",
     "output_type": "stream",
     "text": [
      "Requirement already satisfied: ucimlrepo in c:\\users\\ldh\\anaconda3\\lib\\site-packages (0.0.7)\n",
      "Requirement already satisfied: scikit-learn in c:\\users\\ldh\\anaconda3\\lib\\site-packages (1.0.2)\n",
      "Requirement already satisfied: xgboost in c:\\users\\ldh\\anaconda3\\lib\\site-packages (2.1.2)\n",
      "Requirement already satisfied: matplotlib in c:\\users\\ldh\\anaconda3\\lib\\site-packages (3.5.2)\n",
      "Requirement already satisfied: seaborn in c:\\users\\ldh\\anaconda3\\lib\\site-packages (0.11.2)\n",
      "Requirement already satisfied: pandas>=1.0.0 in c:\\users\\ldh\\anaconda3\\lib\\site-packages (from ucimlrepo) (1.4.4)\n",
      "Requirement already satisfied: certifi>=2020.12.5 in c:\\users\\ldh\\anaconda3\\lib\\site-packages (from ucimlrepo) (2022.9.14)\n",
      "Requirement already satisfied: numpy>=1.14.6 in c:\\users\\ldh\\anaconda3\\lib\\site-packages (from scikit-learn) (1.24.4)\n",
      "Requirement already satisfied: scipy>=1.1.0 in c:\\users\\ldh\\anaconda3\\lib\\site-packages (from scikit-learn) (1.9.1)\n",
      "Requirement already satisfied: joblib>=0.11 in c:\\users\\ldh\\anaconda3\\lib\\site-packages (from scikit-learn) (1.1.0)\n",
      "Requirement already satisfied: threadpoolctl>=2.0.0 in c:\\users\\ldh\\anaconda3\\lib\\site-packages (from scikit-learn) (2.2.0)\n",
      "Requirement already satisfied: kiwisolver>=1.0.1 in c:\\users\\ldh\\anaconda3\\lib\\site-packages (from matplotlib) (1.4.2)\n",
      "Requirement already satisfied: python-dateutil>=2.7 in c:\\users\\ldh\\anaconda3\\lib\\site-packages (from matplotlib) (2.8.2)\n",
      "Requirement already satisfied: cycler>=0.10 in c:\\users\\ldh\\anaconda3\\lib\\site-packages (from matplotlib) (0.11.0)\n",
      "Requirement already satisfied: fonttools>=4.22.0 in c:\\users\\ldh\\anaconda3\\lib\\site-packages (from matplotlib) (4.25.0)\n",
      "Requirement already satisfied: pyparsing>=2.2.1 in c:\\users\\ldh\\anaconda3\\lib\\site-packages (from matplotlib) (3.0.9)\n",
      "Requirement already satisfied: pillow>=6.2.0 in c:\\users\\ldh\\anaconda3\\lib\\site-packages (from matplotlib) (9.2.0)\n",
      "Requirement already satisfied: packaging>=20.0 in c:\\users\\ldh\\anaconda3\\lib\\site-packages (from matplotlib) (21.3)\n",
      "Requirement already satisfied: pytz>=2020.1 in c:\\users\\ldh\\anaconda3\\lib\\site-packages (from pandas>=1.0.0->ucimlrepo) (2022.1)\n",
      "Requirement already satisfied: six>=1.5 in c:\\users\\ldh\\anaconda3\\lib\\site-packages (from python-dateutil>=2.7->matplotlib) (1.16.0)\n"
     ]
    },
    {
     "name": "stderr",
     "output_type": "stream",
     "text": [
      "WARNING: Ignoring invalid distribution -ensorflow-intel (c:\\users\\ldh\\anaconda3\\lib\\site-packages)\n",
      "WARNING: Ignoring invalid distribution -ensorflow-intel (c:\\users\\ldh\\anaconda3\\lib\\site-packages)\n",
      "WARNING: Ignoring invalid distribution -ensorflow-intel (c:\\users\\ldh\\anaconda3\\lib\\site-packages)\n",
      "WARNING: Ignoring invalid distribution -ensorflow-intel (c:\\users\\ldh\\anaconda3\\lib\\site-packages)\n",
      "WARNING: Ignoring invalid distribution -ensorflow-intel (c:\\users\\ldh\\anaconda3\\lib\\site-packages)\n",
      "WARNING: Ignoring invalid distribution -ensorflow-intel (c:\\users\\ldh\\anaconda3\\lib\\site-packages)\n"
     ]
    }
   ],
   "source": [
    "!pip install ucimlrepo scikit-learn xgboost matplotlib seaborn\n",
    "\n",
    "from sklearn.model_selection import train_test_split, learning_curve\n",
    "from sklearn.ensemble import RandomForestClassifier\n",
    "from sklearn.preprocessing import LabelEncoder\n",
    "import matplotlib.pyplot as plt\n",
    "import numpy as np\n",
    "from ucimlrepo import fetch_ucirepo"
   ]
  },
  {
   "cell_type": "markdown",
   "id": "070910e3",
   "metadata": {},
   "source": [
    "### - 데이터 형태 출력\n",
    "\n",
    "#### 데이터 개수: 208 (기뢰: 111 / 암석:97)\n",
    "\n",
    "#### 각 데이터 특징: 60\n",
    "\n",
    "#### 데이터 값: M(Mines, 기뢰) / R(Rocks, 암석)\n",
    "\n",
    "#### 결측값 없는 데이터셋"
   ]
  },
  {
   "cell_type": "code",
   "execution_count": 160,
   "id": "9938a45a",
   "metadata": {},
   "outputs": [
    {
     "name": "stdout",
     "output_type": "stream",
     "text": [
      "특징 X 전체 모양: (208, 60)\n",
      "  값 y 전체 모양: (208, 1)\n",
      "         값 종류: ['M' 'R']\n"
     ]
    }
   ],
   "source": [
    "data = fetch_ucirepo(id=151)\n",
    "X = data.data.features\n",
    "y = data.data.targets\n",
    "\n",
    "print(f\"특징 X 전체 모양: {X.shape}\")\n",
    "print(f\"  값 y 전체 모양: {y.shape}\")\n",
    "print(f\"         값 종류: {np.unique(y)}\")"
   ]
  },
  {
   "cell_type": "markdown",
   "id": "2fab949f",
   "metadata": {},
   "source": [
    "### sonar.all-data 파일\n",
    "\n",
    "### - 값이 M인 데이터 중 하나\n",
    "![로컬 이미지](./png/DataSet_M.png)\n",
    "\n",
    "### - 값이 R인 데이터 중 하나\n",
    "![로컬 이미지](./png/DataSet_R.png)\n",
    "\n",
    "#### 소나 여러 주파수 대역에서 측정된 에너지 값 (0이상 1이하의 실수)\n",
    "#### 마지막에는 M 또는 R"
   ]
  },
  {
   "cell_type": "markdown",
   "id": "c526a61c",
   "metadata": {},
   "source": [
    "### - 데이터의 결과값인 M/R을 숫자형인 0/1로 변환"
   ]
  },
  {
   "cell_type": "code",
   "execution_count": 161,
   "id": "2f5ce99b",
   "metadata": {},
   "outputs": [],
   "source": [
    "label_encoder = LabelEncoder()\n",
    "y = label_encoder.fit_transform(y.values.ravel())"
   ]
  },
  {
   "cell_type": "markdown",
   "id": "9b3af757",
   "metadata": {},
   "source": [
    "### - 데이터를 학습/테스트 데이터로 분할\n",
    "#### 학습 데이터: 90% / 테스트 데이터: 10%"
   ]
  },
  {
   "cell_type": "code",
   "execution_count": 162,
   "id": "86267823",
   "metadata": {},
   "outputs": [],
   "source": [
    "X_train, X_test, y_train, y_test = train_test_split(X, y, test_size=0.1, random_state=42)"
   ]
  },
  {
   "cell_type": "markdown",
   "id": "fe80c20f",
   "metadata": {},
   "source": [
    "### - 랜덤 포레스트 모델 학습\n",
    "#### '리프 노드 최소 샘플 개수'는 설정 시 오히려 정확도 떨어짐 -> 미사용\n",
    "#### '트리 개수', '트리 깊이 제한', '분할 최소 샘플 개수', '각 트리가 사용할 특성 개수', '랜덤 스테이트'를 적절히 조정하여 최적의 검증 정확도 도출"
   ]
  },
  {
   "cell_type": "code",
   "execution_count": 163,
   "id": "47b8db9c",
   "metadata": {},
   "outputs": [
    {
     "data": {
      "text/plain": [
       "RandomForestClassifier(max_depth=25, max_features='sqrt', min_samples_split=10,\n",
       "                       n_estimators=220, random_state=42)"
      ]
     },
     "execution_count": 163,
     "metadata": {},
     "output_type": "execute_result"
    }
   ],
   "source": [
    "rf_model = RandomForestClassifier(\n",
    "    n_estimators = 220,   # 트리 개수\n",
    "    max_depth = 25,   # 트리 깊이 제한\n",
    "    min_samples_split = 10,   # 분할 최소 샘플 개수\n",
    "    #min_samples_leaf = 5,   # 리프 노드 최소 샘플 개수\n",
    "    max_features = 'sqrt',   # 각 트리가 사용할 특성 개수 (sqrt: 전체 특성의 제곱근 값)\n",
    "    random_state = 42,\n",
    ")\n",
    "rf_model.fit(X_train, y_train)"
   ]
  },
  {
   "cell_type": "markdown",
   "id": "6a724ebc",
   "metadata": {},
   "source": [
    "### - 전체 훈련/검증 정확도 계산 및 출력"
   ]
  },
  {
   "cell_type": "code",
   "execution_count": 164,
   "id": "df3730c8",
   "metadata": {},
   "outputs": [
    {
     "name": "stdout",
     "output_type": "stream",
     "text": [
      "훈련 정확도: 100.00%\n",
      "검증 정확도: 95.24%\n"
     ]
    }
   ],
   "source": [
    "train_accuracy = rf_model.score(X_train, y_train)\n",
    "test_accuracy = rf_model.score(X_test, y_test)\n",
    "\n",
    "print(f\"훈련 정확도: {train_accuracy * 100:.2f}%\")\n",
    "print(f\"검증 정확도: {test_accuracy * 100:.2f}%\")"
   ]
  },
  {
   "cell_type": "markdown",
   "id": "4acdfd70",
   "metadata": {},
   "source": [
    "### - 훈련/검증 정확도 학습에 따른 그래프 출력"
   ]
  },
  {
   "cell_type": "code",
   "execution_count": 165,
   "id": "3a20a7d0",
   "metadata": {},
   "outputs": [
    {
     "data": {
      "image/png": "[encoded data removed]",
      "text/plain": [
       "<Figure size 1000x400 with 1 Axes>"
      ]
     },
     "metadata": {},
     "output_type": "display_data"
    }
   ],
   "source": [
    "train_sizes, train_scores, val_scores = learning_curve(\n",
    "    rf_model,\n",
    "    X_train,\n",
    "    y_train,\n",
    "    cv = 5,  # 교차 검증 폴드 수\n",
    "    scoring = 'accuracy',  # 평가 지표\n",
    "    train_sizes = np.linspace(0.1, 1.0, 20)  # 학습 데이터 크기 비율\n",
    "    # 10%부터 100%까지 20단계로 나누어 학습\n",
    ")\n",
    "\n",
    "train_mean = np.mean(train_scores, axis=1)\n",
    "val_mean = np.mean(val_scores, axis=1)\n",
    "\n",
    "plt.rcParams['font.family'] = 'Malgun Gothic'\n",
    "plt.rcParams['axes.unicode_minus'] = False\n",
    "plt.figure(figsize=(10, 4))\n",
    "plt.plot(train_sizes, train_mean, label='훈련 정확도', color='blue', marker='o')\n",
    "plt.plot(train_sizes, val_mean, label='검증 정확도', color='red', marker='o')\n",
    "plt.title('랜덤 포레스트', fontsize=16)\n",
    "plt.xlabel('Training Set Size', fontsize=14)\n",
    "plt.ylabel('정확도', fontsize=14)\n",
    "plt.legend(loc='lower right', fontsize=12)\n",
    "plt.grid(alpha=0.5)\n",
    "plt.show()"
   ]
  },
  {
   "cell_type": "markdown",
   "id": "d6212db7",
   "metadata": {},
   "source": [
    "## - ChatGPT 사용 부분\n",
    "\n",
    "### [ChatGPT - 검증 정확도 향상 방법](https://chatgpt.com/share/6757eab5-aa78-8012-9cea-c00de1b17cab)\n",
    "\n",
    "### [ChatGPT - 그래프 출력](https://chatgpt.com/share/6757e9ce-6d38-8012-bc38-c2b9b3c72d2a)"
   ]
  },
  {
   "cell_type": "markdown",
   "id": "7ebcdb61",
   "metadata": {},
   "source": [
    "## - 해당 알고리즘 선정 이유\n",
    "\n",
    "### [랜덤 포레스트 선정 이유](https://www.authorea.com/users/221172/articles/275094-sonar-mines-vs-rocks)\n",
    "\n",
    "### The model that gave the best results was random forest. - 로지스틱 회귀, 의사 결정 트리, 지원 벡터 머신, 랜덤 포레스트, xgboost 중 가장 좋은 결과를 낸 모델이 '랜덤 포레스트'였다고 나옴"
   ]
  },
  {
   "cell_type": "markdown",
   "id": "b906487b",
   "metadata": {},
   "source": [
    "## - 매개변수 선택 근거\n",
    "\n",
    "### 매개변수의 값을 하나하나 조정해보면서 최적의 정확도가 나오는 값을 찾음"
   ]
  },
  {
   "cell_type": "markdown",
   "id": "39e88b44",
   "metadata": {},
   "source": [
    "## - 결과 정확도\n",
    "\n",
    "### 훈련 정확도: 훈련 데이터로 모델을 학습 시킨 후, 훈련 데이터로 정확도 측정\n",
    "\n",
    "### 검증 정확도: 훈련 데이터로 모델을 학습 시킨 후, 테스트 데이터로 정확도 측정\n",
    "\n",
    "### 숫자%에서의 검증 정확도: 전체 데이터셋을 한 번에 평가\n",
    "\n",
    "### 그래프에서의 검증 정확도: 점진적 학습을 하며 그 지점에서의 성능 평가"
   ]
  },
  {
   "cell_type": "code",
   "execution_count": null,
   "id": "e5ef5ca9",
   "metadata": {},
   "outputs": [],
   "source": []
  }
 ],
 "metadata": {
  "kernelspec": {
   "display_name": "Python 3 (ipykernel)",
   "language": "python",
   "name": "python3"
  },
  "language_info": {
   "codemirror_mode": {
    "name": "ipython",
    "version": 3
   },
   "file_extension": ".py",
   "mimetype": "text/x-python",
   "name": "python",
   "nbconvert_exporter": "python",
   "pygments_lexer": "ipython3",
   "version": "3.9.13"
  }
 },
 "nbformat": 4,
 "nbformat_minor": 5
}
