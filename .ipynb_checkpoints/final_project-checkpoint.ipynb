{
 "cells": [
  {
   "cell_type": "markdown",
   "id": "1ed1dec8",
   "metadata": {},
   "source": [
    "## 주제: 소나탐지\n",
    "\n",
    "## 레포지토리: UC Irvine Machine Running Repository\n",
    "\n",
    "## 데이터: Sonar, Mines vs. Rocks 데이터셋\n",
    "\n",
    "## 알고리즘: 랜덤 포레스트"
   ]
  },
  {
   "cell_type": "code",
   "execution_count": 81,
   "id": "1311ab42",
   "metadata": {},
   "outputs": [
    {
     "name": "stdout",
     "output_type": "stream",
     "text": [
      "Requirement already satisfied: ucimlrepo in c:\\users\\ldh\\anaconda3\\lib\\site-packages (0.0.7)\n",
      "Requirement already satisfied: scikit-learn in c:\\users\\ldh\\anaconda3\\lib\\site-packages (1.0.2)\n",
      "Requirement already satisfied: xgboost in c:\\users\\ldh\\anaconda3\\lib\\site-packages (2.1.2)\n",
      "Requirement already satisfied: matplotlib in c:\\users\\ldh\\anaconda3\\lib\\site-packages (3.5.2)\n",
      "Requirement already satisfied: seaborn in c:\\users\\ldh\\anaconda3\\lib\\site-packages (0.11.2)\n",
      "Requirement already satisfied: pandas>=1.0.0 in c:\\users\\ldh\\anaconda3\\lib\\site-packages (from ucimlrepo) (1.4.4)\n",
      "Requirement already satisfied: certifi>=2020.12.5 in c:\\users\\ldh\\anaconda3\\lib\\site-packages (from ucimlrepo) (2022.9.14)\n",
      "Requirement already satisfied: joblib>=0.11 in c:\\users\\ldh\\anaconda3\\lib\\site-packages (from scikit-learn) (1.1.0)\n",
      "Requirement already satisfied: scipy>=1.1.0 in c:\\users\\ldh\\anaconda3\\lib\\site-packages (from scikit-learn) (1.9.1)\n",
      "Requirement already satisfied: threadpoolctl>=2.0.0 in c:\\users\\ldh\\anaconda3\\lib\\site-packages (from scikit-learn) (2.2.0)\n",
      "Requirement already satisfied: numpy>=1.14.6 in c:\\users\\ldh\\anaconda3\\lib\\site-packages (from scikit-learn) (1.24.4)\n",
      "Requirement already satisfied: pyparsing>=2.2.1 in c:\\users\\ldh\\anaconda3\\lib\\site-packages (from matplotlib) (3.0.9)\n",
      "Requirement already satisfied: python-dateutil>=2.7 in c:\\users\\ldh\\anaconda3\\lib\\site-packages (from matplotlib) (2.8.2)\n",
      "Requirement already satisfied: packaging>=20.0 in c:\\users\\ldh\\anaconda3\\lib\\site-packages (from matplotlib) (21.3)\n",
      "Requirement already satisfied: pillow>=6.2.0 in c:\\users\\ldh\\anaconda3\\lib\\site-packages (from matplotlib) (9.2.0)\n",
      "Requirement already satisfied: kiwisolver>=1.0.1 in c:\\users\\ldh\\anaconda3\\lib\\site-packages (from matplotlib) (1.4.2)\n",
      "Requirement already satisfied: cycler>=0.10 in c:\\users\\ldh\\anaconda3\\lib\\site-packages (from matplotlib) (0.11.0)\n",
      "Requirement already satisfied: fonttools>=4.22.0 in c:\\users\\ldh\\anaconda3\\lib\\site-packages (from matplotlib) (4.25.0)\n",
      "Requirement already satisfied: pytz>=2020.1 in c:\\users\\ldh\\anaconda3\\lib\\site-packages (from pandas>=1.0.0->ucimlrepo) (2022.1)\n",
      "Requirement already satisfied: six>=1.5 in c:\\users\\ldh\\anaconda3\\lib\\site-packages (from python-dateutil>=2.7->matplotlib) (1.16.0)\n"
     ]
    },
    {
     "name": "stderr",
     "output_type": "stream",
     "text": [
      "WARNING: Ignoring invalid distribution -ensorflow-intel (c:\\users\\ldh\\anaconda3\\lib\\site-packages)\n",
      "WARNING: Ignoring invalid distribution -ensorflow-intel (c:\\users\\ldh\\anaconda3\\lib\\site-packages)\n",
      "WARNING: Ignoring invalid distribution -ensorflow-intel (c:\\users\\ldh\\anaconda3\\lib\\site-packages)\n",
      "WARNING: Ignoring invalid distribution -ensorflow-intel (c:\\users\\ldh\\anaconda3\\lib\\site-packages)\n",
      "WARNING: Ignoring invalid distribution -ensorflow-intel (c:\\users\\ldh\\anaconda3\\lib\\site-packages)\n",
      "WARNING: Ignoring invalid distribution -ensorflow-intel (c:\\users\\ldh\\anaconda3\\lib\\site-packages)\n"
     ]
    }
   ],
   "source": [
    "# 필요한 라이브러리 설치\n",
    "!pip install ucimlrepo scikit-learn xgboost matplotlib seaborn"
   ]
  },
  {
   "cell_type": "code",
   "execution_count": 82,
   "id": "c178b386",
   "metadata": {},
   "outputs": [],
   "source": [
    "from sklearn.model_selection import train_test_split, learning_curve\n",
    "from sklearn.ensemble import RandomForestClassifier\n",
    "from sklearn.preprocessing import LabelEncoder\n",
    "import matplotlib.pyplot as plt\n",
    "import numpy as np\n",
    "from ucimlrepo import fetch_ucirepo"
   ]
  },
  {
   "cell_type": "code",
   "execution_count": 83,
   "id": "9938a45a",
   "metadata": {},
   "outputs": [
    {
     "name": "stdout",
     "output_type": "stream",
     "text": [
      "특징 X 전체 모양: (208, 60)\n",
      "  값 y 전체 모양: (208, 1)\n",
      "         값 종류: ['M' 'R']\n"
     ]
    }
   ],
   "source": [
    "data = fetch_ucirepo(id=151)\n",
    "X = data.data.features\n",
    "y = data.data.targets\n",
    "\n",
    "print(f\"특징 X 전체 모양: {X.shape}\")\n",
    "print(f\"  값 y 전체 모양: {y.shape}\")\n",
    "print(f\"         값 종류: {np.unique(y)}\")"
   ]
  },
  {
   "cell_type": "markdown",
   "id": "2fab949f",
   "metadata": {},
   "source": [
    "## 값이 M인 데이터 중 하나\n",
    "![로컬 이미지](./png/DataSet_M.png)\n",
    "\n",
    "## 값이 R인 데이터 중 하나\n",
    "![로컬 이미지](./png/DataSet_R.png)"
   ]
  },
  {
   "cell_type": "markdown",
   "id": "c526a61c",
   "metadata": {},
   "source": [
    "## 데이터의 결과값인 M/R을 숫자형인 0/1로 변환"
   ]
  },
  {
   "cell_type": "code",
   "execution_count": 84,
   "id": "2f5ce99b",
   "metadata": {},
   "outputs": [],
   "source": [
    "label_encoder = LabelEncoder()\n",
    "y = label_encoder.fit_transform(y.values.ravel())"
   ]
  },
  {
   "cell_type": "markdown",
   "id": "9b3af757",
   "metadata": {},
   "source": [
    "## 데이터를 학습/테스트 데이터로 분할"
   ]
  },
  {
   "cell_type": "code",
   "execution_count": 85,
   "id": "86267823",
   "metadata": {},
   "outputs": [],
   "source": [
    "X_train, X_test, y_train, y_test = train_test_split(X, y, test_size=0.1, random_state=42)"
   ]
  },
  {
   "cell_type": "markdown",
   "id": "fe80c20f",
   "metadata": {},
   "source": [
    "## 랜덤 포레스트 모델 학습"
   ]
  },
  {
   "cell_type": "code",
   "execution_count": 86,
   "id": "47b8db9c",
   "metadata": {},
   "outputs": [
    {
     "data": {
      "text/plain": [
       "RandomForestClassifier(max_depth=25, max_features='sqrt', min_samples_leaf=2,\n",
       "                       min_samples_split=10, n_estimators=220, random_state=42)"
      ]
     },
     "execution_count": 86,
     "metadata": {},
     "output_type": "execute_result"
    }
   ],
   "source": [
    "rf_model = RandomForestClassifier(\n",
    "    n_estimators = 220,   # 트리 개수\n",
    "    max_depth = 25,   # 트리 깊이 제한\n",
    "    min_samples_split = 10,   # 분할 최소 샘플 개수\n",
    "    #min_samples_leaf = 5,   # 리프 노드 최소 샘플 개수\n",
    "    max_features = 'sqrt',   # 각 트리가 사용할 특성 개수 (sqrt: 전체 특성의 제곱근 값)\n",
    "    random_state = 42,\n",
    ")\n",
    "rf_model.fit(X_train, y_train)"
   ]
  },
  {
   "cell_type": "markdown",
   "id": "6a724ebc",
   "metadata": {},
   "source": [
    "## 훈련/검증 정확도 계산 및 출력"
   ]
  },
  {
   "cell_type": "code",
   "execution_count": 87,
   "id": "df3730c8",
   "metadata": {},
   "outputs": [
    {
     "name": "stdout",
     "output_type": "stream",
     "text": [
      "훈련 정확도: 100.00%\n",
      "검증 정확도: 90.48%\n"
     ]
    }
   ],
   "source": [
    "train_accuracy = rf_model.score(X_train, y_train)\n",
    "test_accuracy = rf_model.score(X_test, y_test)\n",
    "\n",
    "print(f\"훈련 정확도: {train_accuracy * 100:.2f}%\")\n",
    "print(f\"검증 정확도: {test_accuracy * 100:.2f}%\")"
   ]
  },
  {
   "cell_type": "markdown",
   "id": "4acdfd70",
   "metadata": {},
   "source": [
    "## 훈련/검증 정확도 그래프 출력"
   ]
  },
  {
   "cell_type": "code",
   "execution_count": 88,
   "id": "b1f55298",
   "metadata": {},
   "outputs": [
    {
     "data": {
      "image/png": "[encoded data removed]",
      "text/plain": [
       "<Figure size 1000x600 with 1 Axes>"
      ]
     },
     "metadata": {},
     "output_type": "display_data"
    }
   ],
   "source": [
    "train_sizes = np.linspace(0.1, 1.0, 20) * len(X_train)\n",
    "train_scores_fixed = []\n",
    "test_scores_fixed = []\n",
    "\n",
    "for size in train_sizes.astype(int):\n",
    "    X_partial_train = X_train[:size]\n",
    "    y_partial_train = y_train[:size]\n",
    "    rf_model.fit(X_partial_train, y_partial_train)\n",
    "    train_scores_fixed.append(rf_model.score(X_partial_train, y_partial_train) * 100)\n",
    "    test_scores_fixed.append(rf_model.score(X_test, y_test) * 100)\n",
    "\n",
    "plt.rcParams['font.family'] = 'Malgun Gothic'\n",
    "plt.rcParams['axes.unicode_minus'] = False\n",
    "\n",
    "plt.figure(figsize=(10, 6))\n",
    "plt.plot(train_sizes, train_scores_fixed, label='훈련 정확도', marker='o', color='blue')\n",
    "plt.plot(train_sizes, test_scores_fixed, label='검증 정확도', marker='o', color='red')\n",
    "plt.title('랜덤 포레스트 사용')\n",
    "plt.xlabel('학습 세트 크기')\n",
    "plt.ylabel('정확도 (%)')\n",
    "plt.legend(loc='best')\n",
    "plt.grid()\n",
    "plt.show()"
   ]
  },
  {
   "cell_type": "markdown",
   "id": "8b8f08fc",
   "metadata": {},
   "source": [
    "# 사용한 프롬프트\n",
    "## 질문: 랜덤 포레스트 모델을 학습시킬 때, 검증 정확도를 높일 수 있는 인자들을 알려줘\n",
    "![로컬 이미지](./png/ChatGPT_1.png)\n",
    "\n",
    "![로컬 이미지](./png/ChatGPT_2.png)"
   ]
  },
  {
   "cell_type": "code",
   "execution_count": null,
   "id": "112b6b77",
   "metadata": {},
   "outputs": [],
   "source": []
  }
 ],
 "metadata": {
  "kernelspec": {
   "display_name": "Python 3 (ipykernel)",
   "language": "python",
   "name": "python3"
  },
  "language_info": {
   "codemirror_mode": {
    "name": "ipython",
    "version": 3
   },
   "file_extension": ".py",
   "mimetype": "text/x-python",
   "name": "python",
   "nbconvert_exporter": "python",
   "pygments_lexer": "ipython3",
   "version": "3.9.13"
  }
 },
 "nbformat": 4,
 "nbformat_minor": 5
}
